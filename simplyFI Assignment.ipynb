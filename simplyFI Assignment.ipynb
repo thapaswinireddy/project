{
 "cells": [
  {
   "cell_type": "markdown",
   "id": "5235f469",
   "metadata": {},
   "source": [
    "# Problem 1"
   ]
  },
  {
   "cell_type": "code",
   "execution_count": 7,
   "id": "db147bcb",
   "metadata": {},
   "outputs": [],
   "source": [
    "def formatMoney(number):\n",
    "    res = str(number)\n",
    "\n",
    "    # Number of digits before decimal\n",
    "    n = res.find('.')\n",
    "    n = n if (n >= 0) else len(res)\n",
    "    if n < 4:\n",
    "        return res[:n+3]\n",
    "\n",
    "    # Location of first comma\n",
    "    start = n % 3\n",
    "    start = start if (start > 0) else 3\n",
    "\n",
    "    # Break into parts\n",
    "    parts = [res[:start]]\n",
    "    parts += [res[i:i+3] for i in range(start, n - 3, 3)]\n",
    "    # Last part includes 3 digits before decimal and 2 after\n",
    "    parts += [res[n-3:n+3]]\n",
    "\n",
    "    return \",\".join(parts)"
   ]
  },
  {
   "cell_type": "markdown",
   "id": "75bf042a",
   "metadata": {},
   "source": [
    "# problem 2"
   ]
  },
  {
   "cell_type": "code",
   "execution_count": 12,
   "id": "f174c268",
   "metadata": {},
   "outputs": [
    {
     "name": "stdout",
     "output_type": "stream",
     "text": [
      "3\n",
      "4 10\n",
      "2 13 4 16\n",
      "2\n",
      "5 8\n",
      "9 3 8 8 4\n",
      "1\n",
      "4 6\n",
      "1 2 3 4\n",
      "0\n"
     ]
    }
   ],
   "source": [
    "t=int(input())\n",
    "for i in range(t):\n",
    "    count=0\n",
    "    x, y=map(int,input().split())\n",
    "    a=list(map(int,input().split()))\n",
    "    for item in a:\n",
    "         if(item>y):\n",
    "             count+=1\n",
    "    print(count)"
   ]
  },
  {
   "cell_type": "code",
   "execution_count": null,
   "id": "2c7500eb",
   "metadata": {},
   "outputs": [],
   "source": []
  }
 ],
 "metadata": {
  "kernelspec": {
   "display_name": "Python 3",
   "language": "python",
   "name": "python3"
  },
  "language_info": {
   "codemirror_mode": {
    "name": "ipython",
    "version": 3
   },
   "file_extension": ".py",
   "mimetype": "text/x-python",
   "name": "python",
   "nbconvert_exporter": "python",
   "pygments_lexer": "ipython3",
   "version": "3.8.8"
  }
 },
 "nbformat": 4,
 "nbformat_minor": 5
}
